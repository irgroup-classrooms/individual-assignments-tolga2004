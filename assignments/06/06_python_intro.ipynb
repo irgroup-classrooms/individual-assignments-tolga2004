{
 "cells": [
  {
   "cell_type": "markdown",
   "metadata": {},
   "source": [
    "# DIS08 / OR92 Data Modeling: Python - Introduction (Setup, file management, etc.)"
   ]
  },
  {
   "cell_type": "markdown",
   "metadata": {},
   "source": [
    "In this lecture, we’ll cover and recap the basics of Python programming, including:\n",
    "\n",
    "- Python data structures: lists, tuples, dictionaries, and sets.\n",
    "- Basic file management: reading from and writing to files.\n",
    "- String handling: manipulation of text data and regular expressions.\n",
    "\n",
    "In the lab assignments, you will setup your Python development environment, rerun this notebook, and get started with the `pandas` library.\n",
    "\n",
    "If you would like to study Python more in-depth, we recommend the book [Automate the Boring Stuff With Python](https://automatetheboringstuff.com/). This book also inspired some of the contents in this notebook."
   ]
  },
  {
   "cell_type": "markdown",
   "metadata": {},
   "source": [
    "1. Basic Syntax"
   ]
  },
  {
   "cell_type": "code",
   "execution_count": 1,
   "metadata": {},
   "outputs": [],
   "source": [
    "# This is a comment in Python"
   ]
  },
  {
   "cell_type": "code",
   "execution_count": 2,
   "metadata": {},
   "outputs": [
    {
     "name": "stdout",
     "output_type": "stream",
     "text": [
      "Hello, World!\n"
     ]
    }
   ],
   "source": [
    "# Print \"Hello, World!\" to the console\n",
    "print(\"Hello, World!\")  "
   ]
  },
  {
   "cell_type": "code",
   "execution_count": 3,
   "metadata": {},
   "outputs": [
    {
     "data": {
      "text/plain": [
       "5"
      ]
     },
     "execution_count": 3,
     "metadata": {},
     "output_type": "execute_result"
    }
   ],
   "source": [
    "# Variable assignment\n",
    "x = 5  \n",
    "x"
   ]
  },
  {
   "cell_type": "markdown",
   "metadata": {},
   "source": [
    "2. Data Types"
   ]
  },
  {
   "cell_type": "code",
   "execution_count": null,
   "metadata": {},
   "outputs": [],
   "source": [
    "# Integer type\n",
    "integer_num = 10\n",
    "type(integer_num)"
   ]
  },
  {
   "cell_type": "code",
   "execution_count": 4,
   "metadata": {},
   "outputs": [
    {
     "data": {
      "text/plain": [
       "float"
      ]
     },
     "execution_count": 4,
     "metadata": {},
     "output_type": "execute_result"
    }
   ],
   "source": [
    "# Float type\n",
    "float_num = 3.14\n",
    "type(float_num)"
   ]
  },
  {
   "cell_type": "code",
   "execution_count": 5,
   "metadata": {},
   "outputs": [
    {
     "data": {
      "text/plain": [
       "str"
      ]
     },
     "execution_count": 5,
     "metadata": {},
     "output_type": "execute_result"
    }
   ],
   "source": [
    "# String type\n",
    "str_val = \"Python\"\n",
    "type(str_val)"
   ]
  },
  {
   "cell_type": "markdown",
   "metadata": {},
   "source": [
    "3. Basic Operators"
   ]
  },
  {
   "cell_type": "code",
   "execution_count": 7,
   "metadata": {},
   "outputs": [],
   "source": [
    "a = 10\n",
    "b = 3"
   ]
  },
  {
   "cell_type": "code",
   "execution_count": 8,
   "metadata": {},
   "outputs": [
    {
     "name": "stdout",
     "output_type": "stream",
     "text": [
      "13\n"
     ]
    }
   ],
   "source": [
    "# Addition\n",
    "print(a + b)"
   ]
  },
  {
   "cell_type": "code",
   "execution_count": 9,
   "metadata": {},
   "outputs": [
    {
     "name": "stdout",
     "output_type": "stream",
     "text": [
      "7\n"
     ]
    }
   ],
   "source": [
    "# Subtraction\n",
    "print(a - b)"
   ]
  },
  {
   "cell_type": "code",
   "execution_count": 10,
   "metadata": {},
   "outputs": [
    {
     "name": "stdout",
     "output_type": "stream",
     "text": [
      "30\n"
     ]
    }
   ],
   "source": [
    "# Multiplication\n",
    "print(a * b)"
   ]
  },
  {
   "cell_type": "code",
   "execution_count": 11,
   "metadata": {},
   "outputs": [
    {
     "name": "stdout",
     "output_type": "stream",
     "text": [
      "3.3333333333333335\n"
     ]
    }
   ],
   "source": [
    "# Division\n",
    "print(a / b)"
   ]
  },
  {
   "cell_type": "code",
   "execution_count": 12,
   "metadata": {},
   "outputs": [
    {
     "name": "stdout",
     "output_type": "stream",
     "text": [
      "1\n"
     ]
    }
   ],
   "source": [
    "# Modulus (remainder)\n",
    "print(a % b)"
   ]
  },
  {
   "cell_type": "code",
   "execution_count": 13,
   "metadata": {},
   "outputs": [
    {
     "name": "stdout",
     "output_type": "stream",
     "text": [
      "1000\n"
     ]
    }
   ],
   "source": [
    "# Exponentiation\n",
    "print(a ** b)"
   ]
  },
  {
   "cell_type": "markdown",
   "metadata": {},
   "source": [
    "4. Control Structures"
   ]
  },
  {
   "cell_type": "code",
   "execution_count": 14,
   "metadata": {},
   "outputs": [
    {
     "name": "stdout",
     "output_type": "stream",
     "text": [
      "Positive\n"
     ]
    }
   ],
   "source": [
    "# If-Else statement\n",
    "x = 5\n",
    "if x > 0:\n",
    "    print(\"Positive\")\n",
    "elif x < 0:\n",
    "    print(\"Negative\")\n",
    "else:\n",
    "    print(\"Zero\")\n"
   ]
  },
  {
   "cell_type": "code",
   "execution_count": 15,
   "metadata": {},
   "outputs": [
    {
     "name": "stdout",
     "output_type": "stream",
     "text": [
      "0\n",
      "1\n",
      "2\n",
      "3\n",
      "4\n"
     ]
    }
   ],
   "source": [
    "# For loop\n",
    "for i in range(5):\n",
    "    print(i)"
   ]
  },
  {
   "cell_type": "code",
   "execution_count": 16,
   "metadata": {},
   "outputs": [
    {
     "name": "stdout",
     "output_type": "stream",
     "text": [
      "0\n",
      "1\n",
      "2\n",
      "3\n",
      "4\n"
     ]
    }
   ],
   "source": [
    "# While loop\n",
    "i = 0\n",
    "while i < 5:\n",
    "    print(i)\n",
    "    i += 1"
   ]
  },
  {
   "cell_type": "markdown",
   "metadata": {},
   "source": [
    "## Data Structures"
   ]
  },
  {
   "cell_type": "code",
   "execution_count": 18,
   "metadata": {},
   "outputs": [
    {
     "name": "stdout",
     "output_type": "stream",
     "text": [
      "1\n",
      "6\n",
      "John\n",
      "{'banana', 'apple', 'cherry'}\n"
     ]
    }
   ],
   "source": [
    "# List\n",
    "my_list = [1, 2, 3, 4, 5]\n",
    "print(my_list[0])  # Accessing elements\n",
    "\n",
    "# Tuple (immutable list)\n",
    "my_tuple = (6, 7, 8)\n",
    "print(my_tuple[0])\n",
    "\n",
    "# Dictionary (key-value pairs)\n",
    "my_dict = {\"name\": \"John\", \"age\": 30, \"city\": \"New York\"}\n",
    "print(my_dict[\"name\"])\n",
    "\n",
    "# Set\n",
    "my_set = {\"apple\", \"banana\", \"cherry\"}\n",
    "print(my_set)\n",
    "\n"
   ]
  },
  {
   "cell_type": "markdown",
   "metadata": {},
   "source": [
    "A list is a collection which is ordered and changeable. It allows duplicate members."
   ]
  },
  {
   "cell_type": "code",
   "execution_count": 19,
   "metadata": {},
   "outputs": [
    {
     "name": "stdout",
     "output_type": "stream",
     "text": [
      "['apple', 'banana', 'cherry']\n",
      "['apple', 'banana', 'cherry', 'orange']\n",
      "banana\n",
      "['apple', 'cherry', 'orange']\n"
     ]
    }
   ],
   "source": [
    "# Creating a list\n",
    "fruits = [\"apple\", \"banana\", \"cherry\"]\n",
    "print(fruits)\n",
    "\n",
    "# Adding an item\n",
    "fruits.append(\"orange\")\n",
    "print(fruits)\n",
    "\n",
    "# Accessing items\n",
    "print(fruits[1])\n",
    "\n",
    "# Removing an item\n",
    "fruits.remove(\"banana\")\n",
    "print(fruits)"
   ]
  },
  {
   "cell_type": "markdown",
   "metadata": {},
   "source": [
    "A tuple is a collection which is ordered but unchangeable (immutable). It allows duplicate members."
   ]
  },
  {
   "cell_type": "code",
   "execution_count": 20,
   "metadata": {},
   "outputs": [
    {
     "name": "stdout",
     "output_type": "stream",
     "text": [
      "('apple', 'banana', 'cherry')\n",
      "banana\n"
     ]
    }
   ],
   "source": [
    "# Creating a tuple\n",
    "my_tuple = (\"apple\", \"banana\", \"cherry\")\n",
    "print(my_tuple)\n",
    "\n",
    "# Accessing items\n",
    "print(my_tuple[1])\n",
    "\n",
    "# Tuples are immutable, so the following code will cause an error:\n",
    "# my_tuple[1] = \"orange\""
   ]
  },
  {
   "cell_type": "markdown",
   "metadata": {},
   "source": [
    "A dictionary is a collection which is unordered, changeable, and indexed. It does not allow duplicates."
   ]
  },
  {
   "cell_type": "code",
   "execution_count": 21,
   "metadata": {},
   "outputs": [
    {
     "name": "stdout",
     "output_type": "stream",
     "text": [
      "{'name': 'Alice', 'age': 25, 'city': 'New York'}\n",
      "Alice\n",
      "{'name': 'Alice', 'age': 26, 'city': 'New York'}\n"
     ]
    }
   ],
   "source": [
    "# Creating a dictionary\n",
    "person = {\n",
    "    \"name\": \"Alice\",\n",
    "    \"age\": 25,\n",
    "    \"city\": \"New York\"\n",
    "}\n",
    "print(person)\n",
    "\n",
    "# Accessing values\n",
    "print(person[\"name\"])\n",
    "\n",
    "# Modifying a value\n",
    "person[\"age\"] = 26\n",
    "print(person)"
   ]
  },
  {
   "cell_type": "markdown",
   "metadata": {},
   "source": [
    "6. Functions"
   ]
  },
  {
   "cell_type": "code",
   "execution_count": 22,
   "metadata": {},
   "outputs": [
    {
     "name": "stdout",
     "output_type": "stream",
     "text": [
      "Hello, Alice!\n"
     ]
    }
   ],
   "source": [
    "def greet(name):\n",
    "    \"\"\"This function greets the person passed in as parameter\"\"\"\n",
    "    print(f\"Hello, {name}!\")\n",
    "\n",
    "greet(\"Alice\")  # Output: Hello, Alice!"
   ]
  },
  {
   "cell_type": "markdown",
   "metadata": {},
   "source": [
    "A set is a collection which is unordered, unindexed, and does not allow duplicate members."
   ]
  },
  {
   "cell_type": "code",
   "execution_count": 23,
   "metadata": {},
   "outputs": [
    {
     "name": "stdout",
     "output_type": "stream",
     "text": [
      "{'banana', 'apple', 'cherry'}\n",
      "{'banana', 'apple', 'cherry', 'orange'}\n",
      "{'apple', 'cherry', 'orange'}\n"
     ]
    }
   ],
   "source": [
    "# Creating a set\n",
    "my_set = {\"apple\", \"banana\", \"cherry\"}\n",
    "print(my_set)\n",
    "\n",
    "# Adding an item\n",
    "my_set.add(\"orange\")\n",
    "print(my_set)\n",
    "\n",
    "# Removing an item\n",
    "my_set.remove(\"banana\")\n",
    "print(my_set)"
   ]
  },
  {
   "cell_type": "markdown",
   "metadata": {},
   "source": [
    "## Basic File Management in Python"
   ]
  },
  {
   "cell_type": "markdown",
   "metadata": {},
   "source": [
    "You can also use many command line tools in a Jupyter notebook. We use `echo` to create a first text file."
   ]
  },
  {
   "cell_type": "code",
   "execution_count": 24,
   "metadata": {},
   "outputs": [],
   "source": [
    "!echo \"This is the beginning of a new file!\\n\" >> example.txt"
   ]
  },
  {
   "cell_type": "markdown",
   "metadata": {},
   "source": [
    "To read a file, use the open() function in reading mode ('r')."
   ]
  },
  {
   "cell_type": "code",
   "execution_count": 25,
   "metadata": {},
   "outputs": [
    {
     "name": "stdout",
     "output_type": "stream",
     "text": [
      "This is the beginning of a new file!\n",
      "\n",
      "\n"
     ]
    }
   ],
   "source": [
    "# Reading from a file\n",
    "file = open(\"example.txt\", \"r\")\n",
    "\n",
    "# Read the entire content of the file\n",
    "content = file.read()\n",
    "print(content)\n",
    "\n",
    "# Always remember to close the file after you're done\n",
    "file.close()"
   ]
  },
  {
   "cell_type": "markdown",
   "metadata": {},
   "source": [
    "To write to a file, use the open() function in write mode ('w')."
   ]
  },
  {
   "cell_type": "code",
   "execution_count": null,
   "metadata": {},
   "outputs": [],
   "source": [
    "# Writing to a file\n",
    "file = open(\"example.txt\", \"w\")\n",
    "file.write(\"Hello, World!\\nThis is a new line.\")\n",
    "file.close()"
   ]
  },
  {
   "cell_type": "markdown",
   "metadata": {},
   "source": [
    "You can also append data to an existing file using append mode ('a')."
   ]
  },
  {
   "cell_type": "code",
   "execution_count": null,
   "metadata": {},
   "outputs": [],
   "source": [
    "# Appending to a file\n",
    "file = open(\"example.txt\", \"a\")\n",
    "file.write(\"\\nThis is an appended line.\")\n",
    "file.close()"
   ]
  },
  {
   "cell_type": "markdown",
   "metadata": {},
   "source": [
    "It’s a good practice to use the `with` statement when working with files to ensure the file is properly closed after the operations."
   ]
  },
  {
   "cell_type": "code",
   "execution_count": null,
   "metadata": {},
   "outputs": [],
   "source": [
    "# Using 'with' statement to open and read a file\n",
    "with open(\"example.txt\", \"r\") as file:\n",
    "    content = file.read()\n",
    "    print(content)"
   ]
  },
  {
   "cell_type": "markdown",
   "metadata": {},
   "source": [
    "## String Handling in Python"
   ]
  },
  {
   "cell_type": "markdown",
   "metadata": {},
   "source": [
    "Python provides a variety of methods for manipulating and handling strings."
   ]
  },
  {
   "cell_type": "code",
   "execution_count": null,
   "metadata": {},
   "outputs": [],
   "source": [
    "# Concatenating strings\n",
    "greeting = \"Hello\"\n",
    "name = \"Alice\"\n",
    "message = greeting + \", \" + name + \"!\"\n",
    "print(message)"
   ]
  },
  {
   "cell_type": "markdown",
   "metadata": {},
   "source": [
    "**String Formatting:** You can format strings using the format() method or f-strings (in Python 3.6+)."
   ]
  },
  {
   "cell_type": "code",
   "execution_count": null,
   "metadata": {},
   "outputs": [],
   "source": [
    "# Using format method\n",
    "message = \"Hello, {}!\".format(name)\n",
    "print(message)\n",
    "\n",
    "# Using f-strings (Python 3.6+)\n",
    "message = f\"Hello, {name}!\"\n",
    "print(message)"
   ]
  },
  {
   "cell_type": "markdown",
   "metadata": {},
   "source": [
    "**String Methods:** Some common string methods in Python include upper(), lower(), replace(), and split()."
   ]
  },
  {
   "cell_type": "code",
   "execution_count": null,
   "metadata": {},
   "outputs": [],
   "source": [
    "# Changing case\n",
    "text = \"Hello, World!\"\n",
    "print(text.upper())\n",
    "print(text.lower())\n",
    "\n",
    "# Replacing parts of a string\n",
    "print(text.replace(\"World\", \"Python\"))\n",
    "\n",
    "# Splitting a string\n",
    "words = text.split(\", \")\n",
    "print(words)"
   ]
  },
  {
   "cell_type": "markdown",
   "metadata": {},
   "source": [
    "**Regular expressions:** The re.search() function searches for a match in a string."
   ]
  },
  {
   "cell_type": "code",
   "execution_count": null,
   "metadata": {},
   "outputs": [],
   "source": [
    "import re\n",
    "\n",
    "# Search for the word 'Python' in a string\n",
    "text = \"Welcome to Python programming!\"\n",
    "pattern = \"Python\"\n",
    "\n",
    "# Search for the pattern\n",
    "match = re.search(pattern, text)\n",
    "\n",
    "# The re.search() function looks for the word “Python” in the text. If found, it returns a match object, otherwise None.\n",
    "if match:\n",
    "    print(\"Match found!\")\n",
    "else:\n",
    "    print(\"No match.\")"
   ]
  },
  {
   "cell_type": "markdown",
   "metadata": {},
   "source": [
    "## Quiz time!"
   ]
  },
  {
   "cell_type": "markdown",
   "metadata": {},
   "source": [
    "**Question:** What will be the output of the following code?"
   ]
  },
  {
   "cell_type": "code",
   "execution_count": null,
   "metadata": {},
   "outputs": [],
   "source": [
    "fruits = [\"apple\", \"banana\", \"cherry\"]\n",
    "fruits.append(\"orange\")\n",
    "print(fruits[1])"
   ]
  },
  {
   "cell_type": "markdown",
   "metadata": {},
   "source": [
    "A) \"apple\"  \n",
    "B) \"banana\"  \n",
    "C) \"cherry\"  \n",
    "D) [\"apple\", \"banana\", \"cherry\", \"orange\"]"
   ]
  },
  {
   "cell_type": "markdown",
   "metadata": {},
   "source": [
    "**Question:** What error will the following code produce?"
   ]
  },
  {
   "cell_type": "code",
   "execution_count": null,
   "metadata": {},
   "outputs": [],
   "source": [
    "colors = (\"red\", \"green\", \"blue\")\n",
    "colors[1] = \"yellow\""
   ]
  },
  {
   "cell_type": "markdown",
   "metadata": {},
   "source": [
    "A) TypeError: 'tuple' object does not support item assignment  \n",
    "B) IndexError: tuple index out of range  \n",
    "C) No error, it works fine  \n",
    "D) AttributeError: 'tuple' object has no attribute 'append'"
   ]
  },
  {
   "cell_type": "markdown",
   "metadata": {},
   "source": [
    "**Question:** What will be the value of car[\"year\"] after running the following code?"
   ]
  },
  {
   "cell_type": "code",
   "execution_count": null,
   "metadata": {},
   "outputs": [],
   "source": [
    "car = {\n",
    "    \"brand\": \"Ford\",\n",
    "    \"model\": \"Mustang\",\n",
    "    \"year\": 1964\n",
    "}\n",
    "car[\"year\"] = 2022\n",
    "print(car[\"year\"])"
   ]
  },
  {
   "cell_type": "markdown",
   "metadata": {},
   "source": [
    "A) 1964  \n",
    "B) 2022  \n",
    "C) None  \n",
    "D) KeyError: 'year'"
   ]
  },
  {
   "cell_type": "markdown",
   "metadata": {},
   "source": [
    "**Question:** What will happen if the following code is executed, and example.txt doesn’t exist in the directory?"
   ]
  },
  {
   "cell_type": "code",
   "execution_count": null,
   "metadata": {},
   "outputs": [],
   "source": [
    "with open(\"example.txt\", \"r\") as file:\n",
    "    content = file.read()\n",
    "    print(content)"
   ]
  },
  {
   "cell_type": "markdown",
   "metadata": {},
   "source": [
    "A) It will create a new file named example.txt.  \n",
    "B) It will throw a FileNotFoundError.  \n",
    "C) It will print an empty string.  \n",
    "D) It will print None.  "
   ]
  },
  {
   "cell_type": "markdown",
   "metadata": {},
   "source": [
    "**Question:** What will be the value of message in the following code?"
   ]
  },
  {
   "cell_type": "code",
   "execution_count": null,
   "metadata": {},
   "outputs": [],
   "source": [
    "name = \"Alice\"\n",
    "greeting = \"Hello\"\n",
    "message = greeting + \", \" + name + \"!\"\n",
    "print(message)"
   ]
  },
  {
   "cell_type": "markdown",
   "metadata": {},
   "source": [
    "A) \"Hello Alice\"  \n",
    "B) \"Hello, Alice!\"  \n",
    "C) \"Hello Alice!\"  \n",
    "D) \", Alice!\""
   ]
  },
  {
   "cell_type": "markdown",
   "metadata": {},
   "source": [
    "**Question:** What will the following code output?"
   ]
  },
  {
   "cell_type": "code",
   "execution_count": null,
   "metadata": {},
   "outputs": [],
   "source": [
    "text = \"Welcome to Python\"\n",
    "print(text.upper())"
   ]
  },
  {
   "cell_type": "markdown",
   "metadata": {},
   "source": [
    "A) WELCOME TO PYTHON  \n",
    "B) welcome to python  \n",
    "C) Welcome To Python  \n",
    "D) Welcome to python"
   ]
  },
  {
   "cell_type": "markdown",
   "metadata": {},
   "source": [
    "**Question:** What happens if you try to add a duplicate item to a set?"
   ]
  },
  {
   "cell_type": "code",
   "execution_count": null,
   "metadata": {},
   "outputs": [],
   "source": [
    "my_set = {\"apple\", \"banana\", \"cherry\"}\n",
    "my_set.add(\"banana\")\n",
    "print(my_set)"
   ]
  },
  {
   "cell_type": "markdown",
   "metadata": {},
   "source": [
    "A) The set will now contain two \"banana\" items.  \n",
    "B) The set will raise an error.  \n",
    "C) The set will remain unchanged.   \n",
    "D) The set will reorder itself."
   ]
  },
  {
   "cell_type": "markdown",
   "metadata": {},
   "source": [
    "**Question:** What is the correct way to format a string using f-strings in the following code?"
   ]
  },
  {
   "cell_type": "code",
   "execution_count": null,
   "metadata": {},
   "outputs": [],
   "source": [
    "name = \"Alice\"\n",
    "age = 25\n",
    "message = f\"My name is ... and I am ... years old.\"\n",
    "print(message)"
   ]
  },
  {
   "cell_type": "markdown",
   "metadata": {},
   "source": [
    "A) f\"My name is {name} and I am {age} years old.\"  \n",
    "B) f\"My name is name and I am age years old.\"  \n",
    "C) \"My name is {name} and I am {age} years old.\"  \n",
    "D) \"My name is name and I am age years old.\""
   ]
  },
  {
   "cell_type": "markdown",
   "metadata": {},
   "source": [
    "**Question:** What will be the output of the following code?"
   ]
  },
  {
   "cell_type": "code",
   "execution_count": null,
   "metadata": {},
   "outputs": [],
   "source": [
    "numbers = [10, 20, 30, 40, 50]\n",
    "print(numbers[-2])"
   ]
  },
  {
   "cell_type": "markdown",
   "metadata": {},
   "source": [
    "A) 20  \n",
    "B) 40  \n",
    "C) 30  \n",
    "D) 50\n"
   ]
  },
  {
   "cell_type": "markdown",
   "metadata": {},
   "source": [
    "**Question:** What will the following code output?"
   ]
  },
  {
   "cell_type": "code",
   "execution_count": null,
   "metadata": {},
   "outputs": [],
   "source": [
    "person = {\n",
    "    \"name\": \"John\",\n",
    "    \"age\": 30\n",
    "}\n",
    "print(\"height\" in person)"
   ]
  },
  {
   "cell_type": "markdown",
   "metadata": {},
   "source": [
    "A) True  \n",
    "B) False  \n",
    "C) None  \n",
    "D) KeyError: 'height'"
   ]
  },
  {
   "cell_type": "markdown",
   "metadata": {},
   "source": [
    "## Lab Assignments\n",
    "\n",
    "Download this notebook from Moodle and rerun the examples from today's lecture. If you can execute all of the code cells above you are done! The setup guide below will help you to get started!\n",
    "\n",
    "Once, you have setup your Python/Jupyter environment, please do the following task:\n",
    "\n",
    "- Download this [dataset](https://librarycarpentry.org/lc-python-intro/files/data.zip) and extract it (do not commit it to this repository).\n",
    "- Get familiar with the [pandas](https://pandas.pydata.org/) library and install it in your Python environment.\n",
    "- Load one or more of the CSV files in the data/ directory as a DataFrame.\n",
    "- Use the functions `info()`, `head()`, `tail()`, `describe()`, and the variable `columns` to get some basic information about the data. Also document and describe the outputs.\n",
    "- How do you get the first/last ten rows of the DataFrame?\n",
    "- How do you get the rows between row 30 and row 40?\n",
    "- How do you get a specific column, e.g., 'year'? What kind of `type()` has the column?\n",
    "- What is the `*.pkl` file? How do load it into your program and what are the data contents in it?\n",
    "- What is the purpose of `.loc()` and `.iloc()`?\n",
    "- How do you sort values in a column?\n",
    "\n",
    "When you have completed the tasks, please commit this notebook to your GitHub repository in the directory `assignments/06/`.\n"
   ]
  },
  {
   "cell_type": "code",
   "execution_count": 26,
   "metadata": {},
   "outputs": [
    {
     "name": "stdout",
     "output_type": "stream",
     "text": [
      "Requirement already satisfied: pandas in /opt/anaconda3/lib/python3.11/site-packages (2.1.4)\n",
      "Requirement already satisfied: numpy<2,>=1.23.2 in /opt/anaconda3/lib/python3.11/site-packages (from pandas) (1.26.4)\n",
      "Requirement already satisfied: python-dateutil>=2.8.2 in /opt/anaconda3/lib/python3.11/site-packages (from pandas) (2.8.2)\n",
      "Requirement already satisfied: pytz>=2020.1 in /opt/anaconda3/lib/python3.11/site-packages (from pandas) (2023.3.post1)\n",
      "Requirement already satisfied: tzdata>=2022.1 in /opt/anaconda3/lib/python3.11/site-packages (from pandas) (2023.3)\n",
      "Requirement already satisfied: six>=1.5 in /opt/anaconda3/lib/python3.11/site-packages (from python-dateutil>=2.8.2->pandas) (1.16.0)\n",
      "Note: you may need to restart the kernel to use updated packages.\n"
     ]
    }
   ],
   "source": [
    "pip install pandas"
   ]
  },
  {
   "cell_type": "code",
   "execution_count": 27,
   "metadata": {},
   "outputs": [
    {
     "name": "stdout",
     "output_type": "stream",
     "text": [
      "2.1.4\n"
     ]
    }
   ],
   "source": [
    "import pandas as pd\n",
    "print(pd.__version__)  # Zeigt die installierte pandas-Version an"
   ]
  },
  {
   "cell_type": "code",
   "execution_count": null,
   "metadata": {},
   "outputs": [
    {
     "name": "stdout",
     "output_type": "stream",
     "text": [
      "           branch                  address     city  zip code  january  \\\n",
      "0     Albany Park     5150 N. Kimball Ave.  Chicago   60625.0     8427   \n",
      "1         Altgeld    13281 S. Corliss Ave.  Chicago   60827.0     1258   \n",
      "2  Archer Heights      5055 S. Archer Ave.  Chicago   60632.0     8104   \n",
      "3          Austin        5615 W. Race Ave.  Chicago   60644.0     1755   \n",
      "4   Austin-Irving  6100 W. Irving Park Rd.  Chicago   60634.0    12593   \n",
      "\n",
      "   february  march  april    may   june   july  august  september  october  \\\n",
      "0      7023   9702   9344   8865  11650  11778   11306      10466    10997   \n",
      "1       708    854    804    816    870    713     480        702      927   \n",
      "2      6899   9329   9124   7472   8314   8116    9177       9033     9709   \n",
      "3      1316   1942   2200   2133   2359   2080    2405       2417     2571   \n",
      "4     11791  14807  14382  11754  14402  14605   15164      14306    15357   \n",
      "\n",
      "   november  december     ytd  \n",
      "0     10567      9934  120059  \n",
      "1       787       692    9611  \n",
      "2      8809      7865  101951  \n",
      "3      2233      2116   25527  \n",
      "4     14069     12404  165634  \n",
      "<class 'pandas.core.frame.DataFrame'>\n",
      "RangeIndex: 80 entries, 0 to 79\n",
      "Data columns (total 17 columns):\n",
      " #   Column     Non-Null Count  Dtype  \n",
      "---  ------     --------------  -----  \n",
      " 0   branch     80 non-null     object \n",
      " 1   address    80 non-null     object \n",
      " 2   city       80 non-null     object \n",
      " 3   zip code   80 non-null     float64\n",
      " 4   january    80 non-null     int64  \n",
      " 5   february   80 non-null     int64  \n",
      " 6   march      80 non-null     int64  \n",
      " 7   april      80 non-null     int64  \n",
      " 8   may        80 non-null     int64  \n",
      " 9   june       80 non-null     int64  \n",
      " 10  july       80 non-null     int64  \n",
      " 11  august     80 non-null     int64  \n",
      " 12  september  80 non-null     int64  \n",
      " 13  october    80 non-null     int64  \n",
      " 14  november   80 non-null     int64  \n",
      " 15  december   80 non-null     int64  \n",
      " 16  ytd        80 non-null     int64  \n",
      "dtypes: float64(1), int64(13), object(3)\n",
      "memory usage: 10.8+ KB\n",
      "None\n",
      "           zip code       january      february        march         april  \\\n",
      "count     80.000000     80.000000     80.000000     80.00000     80.000000   \n",
      "mean   60632.675000   7216.175000   6247.162500   8367.36250   8209.225000   \n",
      "std       28.001254  10334.622299   8815.945718  11667.93342  11241.223544   \n",
      "min    60605.000000      0.000000      0.000000      0.00000      0.000000   \n",
      "25%    60617.000000   2388.500000   1979.250000   2708.50000   2864.250000   \n",
      "50%    60629.000000   5814.500000   5200.000000   6468.50000   6286.000000   \n",
      "75%    60643.000000   9021.000000   8000.000000  10737.00000  10794.250000   \n",
      "max    60827.000000  79210.000000  67574.000000  89122.00000  88527.000000   \n",
      "\n",
      "                may          june          july        august     september  \\\n",
      "count     80.000000     80.000000     80.000000     80.000000     80.000000   \n",
      "mean    7551.725000   8581.125000   8708.887500   8918.550000   8289.975000   \n",
      "std    10532.352671  10862.742953  10794.030461  11301.149192  10576.005552   \n",
      "min        0.000000      0.000000      0.000000      2.000000      0.000000   \n",
      "25%     2678.500000   2953.750000   3344.750000   3310.500000   3196.750000   \n",
      "50%     5733.000000   6764.500000   6194.000000   6938.500000   6599.500000   \n",
      "75%     9406.250000  10852.750000  11168.000000  11291.750000  10520.000000   \n",
      "max    82581.000000  82100.000000  80219.000000  85193.000000  81400.000000   \n",
      "\n",
      "            october      november     december            ytd  \n",
      "count     80.000000     80.000000     80.00000      80.000000  \n",
      "mean    9033.437500   8431.112500   7622.73750   97177.475000  \n",
      "std    10826.494853  10491.875418   9194.44616  125678.282307  \n",
      "min        0.000000      0.000000      0.00000    9218.000000  \n",
      "25%     3747.000000   3168.000000   3049.75000   37119.250000  \n",
      "50%     7219.500000   6766.000000   5797.00000   73529.000000  \n",
      "75%    11347.500000  10767.000000   9775.00000  124195.750000  \n",
      "max    82236.000000  79702.000000  68856.00000  966720.000000  \n",
      "Index(['branch', 'address', 'city', 'zip code', 'january', 'february', 'march',\n",
      "       'april', 'may', 'june', 'july', 'august', 'september', 'october',\n",
      "       'november', 'december', 'ytd'],\n",
      "      dtype='object')\n",
      "              branch                     address     city  zip code  january  \\\n",
      "0        Albany Park        5150 N. Kimball Ave.  Chicago   60625.0     8427   \n",
      "1            Altgeld       13281 S. Corliss Ave.  Chicago   60827.0     1258   \n",
      "2     Archer Heights         5055 S. Archer Ave.  Chicago   60632.0     8104   \n",
      "3             Austin           5615 W. Race Ave.  Chicago   60644.0     1755   \n",
      "4      Austin-Irving     6100 W. Irving Park Rd.  Chicago   60634.0    12593   \n",
      "5             Avalon  8148 S. Stony Island Ave.   Chicago   60617.0     5664   \n",
      "6  Back of the Yards          4650 S. Damen Ave.  Chicago   60609.0     5485   \n",
      "7            Beverly            1962 W. 95th St.  Chicago   60643.0     8049   \n",
      "8           Bezazian         1226 W. Ainslie St.  Chicago   60640.0     8875   \n",
      "9         Blackstone      4904 S. Lake Park Ave.  Chicago   60615.0     9351   \n",
      "\n",
      "   february  march  april    may   june   july  august  september  october  \\\n",
      "0      7023   9702   9344   8865  11650  11778   11306      10466    10997   \n",
      "1       708    854    804    816    870    713     480        702      927   \n",
      "2      6899   9329   9124   7472   8314   8116    9177       9033     9709   \n",
      "3      1316   1942   2200   2133   2359   2080    2405       2417     2571   \n",
      "4     11791  14807  14382  11754  14402  14605   15164      14306    15357   \n",
      "5      4367   5937   5980   5596   6286   6184    6933       6574     6955   \n",
      "6      5171   6024   6592   5170   4033   4832    3129         34        0   \n",
      "7      7473   9239   9449   8299  10053  10086    9595       8439     9610   \n",
      "8      7424  10887  11298  11739  15133  17067   18348      15412    15517   \n",
      "9      7938  10687  10760   9879  11639  11133   12428      11102    11781   \n",
      "\n",
      "   november  december     ytd  \n",
      "0     10567      9934  120059  \n",
      "1       787       692    9611  \n",
      "2      8809      7865  101951  \n",
      "3      2233      2116   25527  \n",
      "4     14069     12404  165634  \n",
      "5      6113      5295   71884  \n",
      "6         0         0   40470  \n",
      "7      8749      7578  106619  \n",
      "8     14860     15243  161803  \n",
      "9     11179     11005  128882  \n",
      "                   branch                    address     city  zip code  \\\n",
      "70            Water Works         163 E. Pearson St.  Chicago   60611.0   \n",
      "71           West Belmont  3104 N. Narragansett Ave.  Chicago   60634.0   \n",
      "72    West Chicago Avenue       4856 W. Chicago Ave.  Chicago   60651.0   \n",
      "73         West Englewood           1745 W. 63rd St.  Chicago   60636.0   \n",
      "74              West Lawn           4020 W. 63rd St.  Chicago   60629.0   \n",
      "75           West Pullman           830 W. 119th St.  Chicago   60643.0   \n",
      "76              West Town       1625 W. Chicago Ave.  Chicago   60622.0   \n",
      "77  Whitney M. Young, Jr.           7901 S. King Dr.  Chicago   60619.0   \n",
      "78       Woodson Regional        9525 S. Halsted St.  Chicago   60628.0   \n",
      "79     Wrightwood-Ashburn        8530 S. Kedzie Ave.  Chicago   60652.0   \n",
      "\n",
      "    january  february  march  april    may   june   july  august  september  \\\n",
      "70     2609      2870   3718   3529   3669   3666   4099    4292       4138   \n",
      "71     8889      8470  11577  11686   9020  10337  11273   10405       9659   \n",
      "72     1277       934   1961   2131   2091   2068   1884    2170       2147   \n",
      "73     1522      1422   1878   1975   1724   1819   1815    2193       2401   \n",
      "74     7606      6076   8552   8896   7313   8150   5703    7723       8201   \n",
      "75     3312      2713   3495   3550   3010   2968   3844    3811       3209   \n",
      "76     9030      7727  10450  10607  10139  10410  10601   11311      11084   \n",
      "77     2588      2033   3099   3087   3005   2911   3123    3644       3547   \n",
      "78    10564      8874  10948   9299   9025  10020  10366   10892      10901   \n",
      "79     3062      2780   3334   3279   3036   3801   4600    3953       3536   \n",
      "\n",
      "    october  november  december     ytd  \n",
      "70     4321      4219      3917   45047  \n",
      "71    11313     11445      9835  123909  \n",
      "72     2207      1612      1609   22091  \n",
      "73     2578      2097      1834   23258  \n",
      "74    10621      8101      7980   94922  \n",
      "75     3923      3162      3147   40144  \n",
      "76    10657     10797      9275  122088  \n",
      "77     3848      3324      3190   37399  \n",
      "78    13272     11421      9474  125056  \n",
      "79     4093      3583      3200   42257  \n",
      "                              branch                   address     city  \\\n",
      "30                              Hall     4801 S. Michigan Ave.  Chicago   \n",
      "31  Harold Washington Library Center          400 S. State St.  Chicago   \n",
      "32                         Hegewisch         3048 E. 130th St.  Chicago   \n",
      "33                     Humboldt Park          1605 N. Troy St.  Chicago   \n",
      "34                      Independence   3548 W. Irving Park Rd.  Chicago   \n",
      "35                    Jefferson Park     5363 W. Lawrence Ave.  Chicago   \n",
      "36                     Jeffery Manor         2401 E. 100th St.  Chicago   \n",
      "37                             Kelly  6151 S. Normal Boulevard  Chicago   \n",
      "38                              King          3436 S. King Dr.  Chicago   \n",
      "39                   Legler Regional        115 S. Pulaski Rd.  Chicago   \n",
      "40                   Lincoln Belmont       1659 W. Melrose St.  Chicago   \n",
      "\n",
      "    zip code  january  february  march  april    may   june   july  august  \\\n",
      "30   60615.0     2416      1914   2720   2644   2693   3134   3373    2953   \n",
      "31   60605.0    79210     67574  89122  88527  82581  82100  80219   85193   \n",
      "32   60633.0     3221      2749   3668   3492   3181   3324   3852    3934   \n",
      "33   60647.0     6251      5736   7798   8184   7509   7502   7019    7120   \n",
      "34   60618.0     8860      7653   9773  10897   9401  11998  12958   11913   \n",
      "35   60630.0     8819      8308  10663  11099   9422  10735  10591   11447   \n",
      "36   60617.0     1223      1115   1757   1811   1429   1531   1437    1702   \n",
      "37   60621.0      963       827   1315   1143   1004   1384   1585    1918   \n",
      "38   60616.0     1903      1795   2586   2875   3108   3255   3446    3732   \n",
      "39   60624.0     1344      1080   1635   1699   1425   1690   1485    1075   \n",
      "40   60657.0    14395     12810  17392  16567  14487  18539  17242   17970   \n",
      "\n",
      "    september  october  november  december     ytd  \n",
      "30       2894     2944      2836      2875   33396  \n",
      "31      81400    82236     79702     68856  966720  \n",
      "32       3570     3755      3617      3073   41436  \n",
      "33       6609     7424      6943      6730   84825  \n",
      "34      10682    11534     10603      9614  125886  \n",
      "35      10447    11033     10757      9755  123076  \n",
      "36       1554     1684      1613      1463   18319  \n",
      "37       1705     2200      1729      1575   17348  \n",
      "38       3505     3711      3257      3107   36280  \n",
      "39       1866     1791      1795      1602   18487  \n",
      "40      16568    17209     16397     14692  194268  \n",
      "0      8427\n",
      "1      1258\n",
      "2      8104\n",
      "3      1755\n",
      "4     12593\n",
      "      ...  \n",
      "75     3312\n",
      "76     9030\n",
      "77     2588\n",
      "78    10564\n",
      "79     3062\n",
      "Name: january, Length: 80, dtype: int64\n",
      "<class 'pandas.core.series.Series'>\n",
      "           branch                  address     city  zip code  january  \\\n",
      "0     Albany Park     5150 N. Kimball Ave.  Chicago   60625.0     8427   \n",
      "1         Altgeld    13281 S. Corliss Ave.  Chicago   60827.0     1258   \n",
      "2  Archer Heights      5055 S. Archer Ave.  Chicago   60632.0     8104   \n",
      "3          Austin        5615 W. Race Ave.  Chicago   60644.0     1755   \n",
      "4   Austin-Irving  6100 W. Irving Park Rd.  Chicago   60634.0    12593   \n",
      "\n",
      "   february  march  april    may   june   july  august  september  october  \\\n",
      "0      7023   9702   9344   8865  11650  11778   11306      10466    10997   \n",
      "1       708    854    804    816    870    713     480        702      927   \n",
      "2      6899   9329   9124   7472   8314   8116    9177       9033     9709   \n",
      "3      1316   1942   2200   2133   2359   2080    2405       2417     2571   \n",
      "4     11791  14807  14382  11754  14402  14605   15164      14306    15357   \n",
      "\n",
      "   november  december     ytd  year  \n",
      "0     10567      9934  120059  2011  \n",
      "1       787       692    9611  2011  \n",
      "2      8809      7865  101951  2011  \n",
      "3      2233      2116   25527  2011  \n",
      "4     14069     12404  165634  2011  \n",
      "                    branch                  address     city  zip code  \\\n",
      "date                                                                     \n",
      "2011-01-01     Albany Park     5150 N. Kimball Ave.  Chicago   60625.0   \n",
      "2011-01-01         Altgeld    13281 S. Corliss Ave.  Chicago   60827.0   \n",
      "2011-01-01  Archer Heights      5055 S. Archer Ave.  Chicago   60632.0   \n",
      "2011-01-01          Austin        5615 W. Race Ave.  Chicago   60644.0   \n",
      "2011-01-01   Austin-Irving  6100 W. Irving Park Rd.  Chicago   60634.0   \n",
      "\n",
      "               ytd  year    month  circulation  \n",
      "date                                            \n",
      "2011-01-01  120059  2011  january         8427  \n",
      "2011-01-01    9611  2011  january         1258  \n",
      "2011-01-01  101951  2011  january         8104  \n",
      "2011-01-01   25527  2011  january         1755  \n",
      "2011-01-01  165634  2011  january        12593  \n",
      "<class 'pandas.core.frame.DataFrame'>\n",
      "RangeIndex: 963 entries, 0 to 962\n",
      "Data columns (total 18 columns):\n",
      " #   Column     Non-Null Count  Dtype  \n",
      "---  ------     --------------  -----  \n",
      " 0   branch     963 non-null    object \n",
      " 1   address    643 non-null    object \n",
      " 2   city       643 non-null    object \n",
      " 3   zip code   643 non-null    float64\n",
      " 4   january    963 non-null    int64  \n",
      " 5   february   963 non-null    int64  \n",
      " 6   march      963 non-null    int64  \n",
      " 7   april      963 non-null    int64  \n",
      " 8   may        963 non-null    int64  \n",
      " 9   june       963 non-null    int64  \n",
      " 10  july       963 non-null    int64  \n",
      " 11  august     963 non-null    int64  \n",
      " 12  september  963 non-null    int64  \n",
      " 13  october    963 non-null    int64  \n",
      " 14  november   963 non-null    int64  \n",
      " 15  december   963 non-null    int64  \n",
      " 16  ytd        963 non-null    int64  \n",
      " 17  year       963 non-null    object \n",
      "dtypes: float64(1), int64(13), object(4)\n",
      "memory usage: 135.6+ KB\n",
      "None\n",
      "<class 'pandas.core.frame.DataFrame'>\n",
      "DatetimeIndex: 11556 entries, 2011-01-01 to 2022-12-01\n",
      "Data columns (total 8 columns):\n",
      " #   Column       Non-Null Count  Dtype  \n",
      "---  ------       --------------  -----  \n",
      " 0   branch       11556 non-null  object \n",
      " 1   address      7716 non-null   object \n",
      " 2   city         7716 non-null   object \n",
      " 3   zip code     7716 non-null   float64\n",
      " 4   ytd          11556 non-null  int64  \n",
      " 5   year         11556 non-null  object \n",
      " 6   month        11556 non-null  object \n",
      " 7   circulation  11556 non-null  int64  \n",
      "dtypes: float64(1), int64(2), object(5)\n",
      "memory usage: 812.5+ KB\n",
      "None\n"
     ]
    }
   ],
   "source": [
    "# You can start to implement your solutions here ...\n",
    "import pandas as pd\n",
    "\n",
    "import pandas as pd\n",
    "\n",
    "# Pfad zur CSV-Datei\n",
    "file_path = 'data/2011_circ.csv'\n",
    "\n",
    "# Datei laden\n",
    "df = pd.read_csv(file_path)\n",
    "\n",
    "# Erste Zeilen anzeigen\n",
    "print(df.head())\n",
    "\n",
    "# Informationen zu Spalten, Datentypen und Speicherverbrauch\n",
    "print(df.info())  \n",
    "\n",
    "# Statistische Zusammenfassung numerischer Spalten\n",
    "print(df.describe())  \n",
    "\n",
    "# Liste der Spaltennamen\n",
    "print(df.columns)  \n",
    "\n",
    "# Erste 10 Zeilen\n",
    "print(df.head(10))\n",
    "\n",
    "# Letzte 10 Zeilen\n",
    "print(df.tail(10))\n",
    "\n",
    "# Zeilen 30 bis 40 (inklusive)\n",
    "print(df.iloc[30:41])  \n",
    "\n",
    "# Zugriff auf eine spezifische Spalte (z. B. 'january') und Datentyp anzeigen\n",
    "print(df['january'])  \n",
    "print(type(df['january']))\n",
    "\n",
    "# Was ist die *.pkl-Datei?\n",
    "# Eine *.pkl-Datei ist eine Pickle-Datei, die in Python verwendet wird, um Daten zu serialisieren und zu speichern. Sie kann DataFrames, Listen oder andere Python-Objekte enthalten.\n",
    "\n",
    "import pandas as pd\n",
    "\n",
    "# Pfad zur Pickle-Datei\n",
    "file_path_all_years = 'data/all_years.pkl'\n",
    "file_path_df_long = 'data/df_long.pkl'\n",
    "\n",
    "# Laden der Pickle-Dateien\n",
    "df_all_years = pd.read_pickle(file_path_all_years)\n",
    "df_df_long = pd.read_pickle(file_path_df_long)\n",
    "\n",
    "# Zeigen Sie die ersten Zeilen der geladenen DataFrames\n",
    "print(df_all_years.head())\n",
    "print(df_df_long.head())\n",
    "\n",
    "# Informationen zum geladenen DataFrame anzeigen\n",
    "print(df_all_years.info())\n",
    "print(df_df_long.info())\n",
    "\n",
    "# Was ist der Zweck von .loc() und .iloc()?\n",
    "# .loc(): Zugriff auf Zeilen und Spalten basierend auf Labels (Index oder Spaltenname).\n",
    "# .iloc(): Zugriff auf Zeilen und Spalten basierend auf Positionen (numerische Indizes).\n",
    "\n",
    "# Wie sortieren Sie Werte in einer Spalte?\n",
    "df.sort_values(by='january', ascending=False)  # Sortiert die Spalte 'january' absteigend\n",
    "# by='column_name': Gibt die Spalte an, nach der sortiert werden soll.\n",
    "# ascending=True/False: Bestimmt die Sortierreihenfolge (aufsteigend oder absteigend)."
   ]
  },
  {
   "cell_type": "markdown",
   "metadata": {},
   "source": [
    "## Setup your Python and Jupyter environment\n",
    "\n",
    "### Step 1: Install Python\n",
    "\n",
    "1.\tDownload Python:\n",
    "\n",
    "- Go to the official Python website.\n",
    "- Download the latest version of Python (e.g., Python 3.x.x) for your operating system (Windows, macOS, or Linux).\n",
    "\n",
    "2.\tInstall Python:  \n",
    "\n",
    "Windows:\n",
    "- Run the downloaded .exe file.\n",
    "- IMPORTANT: During installation, check the box that says “Add Python to PATH”.\n",
    "- Select “Customize installation” (optional, but helpful for control over features).\n",
    "- Complete the installation.\n",
    "  \n",
    "macOS:\n",
    "- Run the .pkg file and follow the instructions.\n",
    "- Alternatively, use the terminal command (requires Homebrew):\n",
    "\n",
    "```\n",
    "brew install python3\n",
    "```\n",
    "\n",
    "Linux:\n",
    "- Use the package manager (e.g., apt for Ubuntu):\n",
    "\n",
    "```\n",
    "sudo apt update\n",
    "sudo apt install python3 python3-pip\n",
    "```\n",
    "\n",
    "3.\tVerify Python Installation:\n",
    "\n",
    "- Open a terminal or command prompt and type:\n",
    "```\n",
    "python --version\n",
    "```\n",
    "\n",
    "This should show the Python version you installed (e.g., Python 3.10.0).\n",
    "\n",
    "### Step 2: Install a Package Manager (pip)\n",
    "\n",
    "pip is the package manager for Python and is usually bundled with Python installations. You can use it to install additional libraries, including Jupyter.\n",
    "\n",
    "1.Verify pip is installed:\n",
    "- Open a terminal or command prompt and type:\n",
    "\n",
    "```\n",
    "pip --version\n",
    "```\n",
    "\n",
    "- If pip is installed, it will display the version.\n",
    "\n",
    "2.\tUpgrade pip (optional):\n",
    "- It’s a good idea to keep pip up-to-date. In the terminal/command prompt, type:\n",
    "\n",
    "```\n",
    "python -m pip install --upgrade pip\n",
    "```\n",
    "\n",
    "### Step 3: Set Up a Virtual Environment (Optional but Recommended)\n",
    "\n",
    "Virtual environments allow you to isolate Python packages and dependencies for different projects.\n",
    "\n",
    "1.\tCreate a virtual environment:\n",
    "\n",
    "Navigate to the directory where you want to set up the environment and run:\n",
    "\n",
    "```\n",
    "python -m venv myenv\n",
    "```\n",
    "\n",
    "This will create a virtual environment named myenv.\n",
    "\n",
    "2. Activate the virtual environment:\n",
    "Windows:\n",
    "\n",
    "```\n",
    "myenv\\Scripts\\activate\n",
    "```\n",
    "\n",
    "- macOS/Linux:\n",
    "\n",
    "```\n",
    "source myenv/bin/activate\n",
    "```\n",
    "\n",
    "3.\tDeactivate the virtual environment: (when you’re done working)\n",
    "\n",
    "```\n",
    "deactivate\n",
    "```\n",
    "\n",
    "\n",
    "### Step 4: Install Jupyter Notebook\n",
    "\n",
    "Jupyter is installed using pip. Once Python (and pip) is set up, Jupyter can be easily installed.\n",
    "\n",
    "1. Install Jupyter:\n",
    "\n",
    "In the terminal or command prompt (and optionally inside your virtual environment), type:\n",
    "\n",
    "```\n",
    "pip install jupyter\n",
    "```\n",
    "\n",
    "2.\tVerify Jupyter Installation:\n",
    "\n",
    "After installation, type:\n",
    "\n",
    "```\n",
    "jupyter --version\n",
    "```\n",
    "\n",
    "This should display the version of Jupyter.\n",
    "\n",
    "### Step 5: Launch Jupyter Notebook\n",
    "\n",
    "1.\tRun Jupyter Notebook:\n",
    "\n",
    "In your terminal/command prompt, type:\n",
    "\n",
    "```\n",
    "jupyter notebook\n",
    "```\n",
    "\n",
    "This will open Jupyter in your default web browser.\n",
    "\n",
    "2.\tCreate a new notebook:\n",
    "- In the Jupyter dashboard (the browser window), click New and select Python 3 to create a new notebook.\n",
    "\n",
    "### Step 6: Install Common Python Packages\n",
    "\n",
    "Install commonly used libraries such as numpy, pandas, and matplotlib.\n",
    "\n",
    "1.\tInstall packages:\n",
    "\n",
    "```\n",
    "pip install numpy pandas matplotlib\n",
    "```\n",
    "\n",
    "2.\tTest packages in Jupyter:\n",
    "- In a new Jupyter notebook, try importing these libraries:\n",
    "\n",
    "```\n",
    "import numpy as np\n",
    "import pandas as pd\n",
    "import matplotlib.pyplot as plt\n",
    "```\n",
    "\n",
    "### Step 7: Configure Jupyter for Better Usage (Optional)\n",
    "\n",
    "You can enhance your Jupyter environment with additional configurations.\n",
    "\n",
    "1.\tJupyterLab (an advanced alternative to Jupyter Notebook):\n",
    "\n",
    "Install JupyterLab:\n",
    "```\n",
    "pip install jupyterlab\n",
    "```\n",
    "\n",
    "Launch JupyterLab by typing:\n",
    "```\n",
    "jupyter lab\n",
    "```\n",
    "\n",
    "2.\tInstall Jupyter Extensions (optional but useful):\n",
    "- Jupyter extensions add useful features like a table of contents, variable inspector, etc.\n",
    "- First, install jupyter_contrib_nbextensions:\n",
    "\n",
    "```\n",
    "pip install jupyter_contrib_nbextensions\n",
    "jupyter contrib nbextension install --user\n",
    "```\n",
    "\n",
    "- Open Jupyter Notebook and enable the desired extensions from the Nbextensions tab.\n",
    "\n",
    "### Step 8: Install Integrated Development Environment (IDE) (Optional)\n",
    "\n",
    "You can install an IDE like VSCode or PyCharm for a better Python development experience.\n",
    "\n",
    "1. Install Visual Studio Code:\n",
    "- Download and install Visual Studio Code.\n",
    "- Install the Python extension from the VSCode marketplace.\n",
    "\n",
    "2. Configure Jupyter in VSCode:\n",
    "- Once the Python extension is installed in VSCode, you can open .ipynb files (Jupyter notebooks) directly in VSCode and run them within the IDE.\n",
    "\n",
    "### Step 9: Explore and Test\n",
    "\n",
    "Your environment is now ready! Explore Python in Jupyter by writing and running simple code snippets, installing additional libraries as needed for specific projects, and trying out new features.\n",
    "\n",
    "Troubleshooting Tips:\n",
    "\n",
    "- Python not recognized: Ensure Python is added to your system’s PATH. On Windows, you can manually add it if you didn’t check the option during installation.\n",
    "- Permission errors: Run commands with sudo on macOS/Linux or as an administrator on Windows if you encounter permission issues.\n",
    "- Kernel issues in Jupyter: If you have multiple Python versions, ensure the correct Python environment is linked to Jupyter using the command python -m ipykernel install --user --name=myenv for the correct virtual environment."
   ]
  },
  {
   "cell_type": "markdown",
   "metadata": {},
   "source": []
  }
 ],
 "metadata": {
  "kernelspec": {
   "display_name": "base",
   "language": "python",
   "name": "python3"
  },
  "language_info": {
   "codemirror_mode": {
    "name": "ipython",
    "version": 3
   },
   "file_extension": ".py",
   "mimetype": "text/x-python",
   "name": "python",
   "nbconvert_exporter": "python",
   "pygments_lexer": "ipython3",
   "version": "3.11.7"
  }
 },
 "nbformat": 4,
 "nbformat_minor": 2
}
